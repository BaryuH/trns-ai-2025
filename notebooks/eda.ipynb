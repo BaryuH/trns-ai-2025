{
 "cells": [
  {
   "cell_type": "code",
   "execution_count": 1,
   "id": "84f811bc",
   "metadata": {},
   "outputs": [],
   "source": [
    "from pathlib import Path\n",
    "import pandas as pd\n",
    "import numpy as np\n",
    "import matplotlib.pyplot as plt\n",
    "import seaborn as sns\n",
    "import json\n",
    "from collections import Counter\n",
    "import os"
   ]
  },
  {
   "cell_type": "code",
   "execution_count": 8,
   "id": "31057bfc",
   "metadata": {},
   "outputs": [
    {
     "name": "stdout",
     "output_type": "stream",
     "text": [
      "D:\\AdminStorage\\Documents\\trns-ai-2025\n"
     ]
    }
   ],
   "source": [
    "# Get the current working directory (where the notebook is running)\n",
    "current_dir = Path().resolve()\n",
    "\n",
    "# Move one level up to reach the parent directory of 'notebooks/'\n",
    "BASE_DIR = current_dir.parent\n",
    "print(BASE_DIR)\n",
    "\n",
    "# Construct the path to the data file\n",
    "data_path = BASE_DIR / \"data\" / \"dataset.json\"\n",
    "\n",
    "# Load the JSON data\n",
    "with open(data_path, 'r', encoding='utf-8') as f:\n",
    "    data = json.load(f)"
   ]
  },
  {
   "cell_type": "code",
   "execution_count": 9,
   "id": "1bd412d6",
   "metadata": {},
   "outputs": [
    {
     "name": "stdout",
     "output_type": "stream",
     "text": [
      "Number of problems: 481\n"
     ]
    }
   ],
   "source": [
    "# Convert to DataFrame for easier analysis\n",
    "df = pd.DataFrame(data)\n",
    "\n",
    "# Basic statistics\n",
    "num_problems = len(df)\n",
    "print(f\"Number of problems: {num_problems}\")"
   ]
  },
  {
   "cell_type": "code",
   "execution_count": 10,
   "id": "e0691306",
   "metadata": {},
   "outputs": [
    {
     "name": "stdout",
     "output_type": "stream",
     "text": [
      "\n",
      "Logical constructs in premises:\n",
      "  Universal statements (∀): 3.43 per example\n",
      "  Existential statements (∃): 0.64 per example\n",
      "  Implications (→): 7.06 per example\n",
      "  Negations (¬): 2.65 per example\n"
     ]
    }
   ],
   "source": [
    "# Analyze premise types in FOL\n",
    "universal_counts = []\n",
    "existential_counts = []\n",
    "implication_counts = []\n",
    "negation_counts = []\n",
    "\n",
    "for premises in df['premises-FOL']:\n",
    "    universal = sum(1 for p in premises if p.startswith('∀'))\n",
    "    existential = sum(1 for p in premises if p.startswith('∃'))\n",
    "    implication = sum(1 for p in premises if '→' in p)\n",
    "    negation = sum(1 for p in premises if '¬' in p)\n",
    "\n",
    "    universal_counts.append(universal)\n",
    "    existential_counts.append(existential)\n",
    "    implication_counts.append(implication)\n",
    "    negation_counts.append(negation)\n",
    "\n",
    "print(\"\\nLogical constructs in premises:\")\n",
    "print(f\"  Universal statements (∀): {np.mean(universal_counts):.2f} per example\")\n",
    "print(f\"  Existential statements (∃): {np.mean(existential_counts):.2f} per example\")\n",
    "print(f\"  Implications (→): {np.mean(implication_counts):.2f} per example\")\n",
    "print(f\"  Negations (¬): {np.mean(negation_counts):.2f} per example\")"
   ]
  },
  {
   "cell_type": "code",
   "execution_count": 11,
   "id": "fd11f526",
   "metadata": {},
   "outputs": [],
   "source": [
    "def create_visualizations(df):\n",
    "    # Premises needed per question\n",
    "    premise_counts = []\n",
    "    for idx_list in df['idx']:\n",
    "        for premise_set in idx_list:\n",
    "            premise_counts.append(len(premise_set))\n",
    "\n",
    "    plt.figure(figsize=(8, 6))\n",
    "    plt.hist(premise_counts, bins=range(1, max(premise_counts)+2), alpha=0.7)\n",
    "    plt.title('Number of Premises Needed per Question')\n",
    "    plt.xlabel('Number of Premises')\n",
    "    plt.ylabel('Frequency')\n",
    "    plt.savefig('premises_needed.png')\n",
    "    plt.close()\n",
    "\n",
    "    # Logical construct distribution\n",
    "\n",
    "    logical_constructs = {\n",
    "        'Universal': sum(sum(1 for p in premises if p.startswith('∀')) for premises in df['premises-FOL']),\n",
    "        'Existential': sum(sum(1 for p in premises if p.startswith('∃')) for premises in df['premises-FOL']),\n",
    "        'Implication': sum(sum(1 for p in premises if '→' in p) for premises in df['premises-FOL']),\n",
    "        'Negation': sum(sum(1 for p in premises if '¬' in p) for premises in df['premises-FOL'])\n",
    "    }\n",
    "\n",
    "    plt.figure(figsize=(10, 6))\n",
    "    sns.barplot(x=list(logical_constructs.keys()),\n",
    "                y=list(logical_constructs.values()))\n",
    "    plt.title('Total Count of Logical Constructs in Dataset')\n",
    "    plt.ylabel('Count')\n",
    "    plt.savefig('logical_constructs.png')\n",
    "    plt.close()\n",
    "\n",
    "    # Alternative: Line chart showing distribution per example\n",
    "    logical_construct_data = {\n",
    "        'Example': [],\n",
    "        'Construct': [],\n",
    "        'Count': []\n",
    "    }\n",
    "\n",
    "    logical_constructs = {\n",
    "        'Universal': sum(sum(1 for p in premises if p.startswith('∀')) for premises in df['premises-FOL']),\n",
    "        'Existential': sum(sum(1 for p in premises if p.startswith('∃')) for premises in df['premises-FOL']),\n",
    "        'Implication': sum(sum(1 for p in premises if '→' in p) for premises in df['premises-FOL']),\n",
    "        'Negation': sum(sum(1 for p in premises if '¬' in p) for premises in df['premises-FOL'])\n",
    "    }\n",
    "\n",
    "    plt.figure(figsize=(10, 6))\n",
    "    sns.barplot(x=list(logical_constructs.keys()),\n",
    "                y=list(logical_constructs.values()))\n",
    "    plt.title('Total Count of Logical Constructs in Dataset')\n",
    "    plt.ylabel('Count')\n",
    "    plt.savefig('logical_constructs.png')\n",
    "    plt.close()\n",
    "\n",
    "    # Alternative: Line chart showing distribution per example\n",
    "    logical_construct_data = {\n",
    "        'Example': [],\n",
    "        'Construct': [],\n",
    "        'Count': []\n",
    "    }\n",
    "\n",
    "    for i, premises in enumerate(df['premises-FOL']):\n",
    "        logical_construct_data['Example'].extend([i+1] * 4)\n",
    "        logical_construct_data['Construct'].extend(\n",
    "            ['Universal', 'Existential', 'Implication', 'Negation'])\n",
    "        logical_construct_data['Count'].extend([\n",
    "            sum(1 for p in premises if p.startswith('∀')),\n",
    "            sum(1 for p in premises if p.startswith('∃')),\n",
    "            sum(1 for p in premises if '→' in p),\n",
    "            sum(1 for p in premises if '¬' in p)\n",
    "        ])\n",
    "\n",
    "    construct_df = pd.DataFrame(logical_construct_data)\n",
    "\n",
    "    plt.figure(figsize=(12, 6))\n",
    "    for construct in ['Universal', 'Existential', 'Implication', 'Negation']:\n",
    "        data = construct_df[construct_df['Construct'] == construct]\n",
    "        plt.plot(data['Example'], data['Count'], marker='o', label=construct)\n",
    "\n",
    "    plt.title('Logical Constructs per Example')\n",
    "    plt.xlabel('Example Number')\n",
    "    plt.ylabel('Count')\n",
    "    plt.legend()\n",
    "    plt.grid(True, linestyle='--', alpha=0.7)\n",
    "    plt.savefig('logical_constructs_by_example.png')\n",
    "    plt.close()\n",
    "\n",
    "\n",
    "# Create visualizations\n",
    "create_visualizations(df)\n"
   ]
  },
  {
   "cell_type": "code",
   "execution_count": 14,
   "id": "f7174557",
   "metadata": {},
   "outputs": [],
   "source": [
    "import json\n",
    "\n",
    "# Load data from the original JSON file\n",
    "input_path = \"../data/dataset.json\"\n",
    "with open(input_path, 'r', encoding='utf-8') as file:\n",
    "    data = json.load(file)\n",
    "\n",
    "# Extract mappings between natural language and FOL\n",
    "mappings = [\n",
    "    {\"premise\": nl, \"fol\": fol}\n",
    "    for item in data\n",
    "    for nl, fol in zip(item.get(\"premises-NL\", []), item.get(\"premises-FOL\", []))\n",
    "]\n",
    "\n",
    "# Write the extracted mappings to a new JSON file\n",
    "output_path = \"../data/train.json\"\n",
    "with open(output_path, 'w', encoding='utf-8') as file:\n",
    "    json.dump(mappings, file, indent=2, ensure_ascii=False)\n"
   ]
  }
 ],
 "metadata": {
  "kernelspec": {
   "display_name": "Python 3",
   "language": "python",
   "name": "python3"
  },
  "language_info": {
   "codemirror_mode": {
    "name": "ipython",
    "version": 3
   },
   "file_extension": ".py",
   "mimetype": "text/x-python",
   "name": "python",
   "nbconvert_exporter": "python",
   "pygments_lexer": "ipython3",
   "version": "3.13.2"
  }
 },
 "nbformat": 4,
 "nbformat_minor": 5
}
